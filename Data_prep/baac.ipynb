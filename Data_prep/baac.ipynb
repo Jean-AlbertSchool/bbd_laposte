{
 "cells": [
  {
   "cell_type": "code",
   "execution_count": 9,
   "id": "2191b2ce",
   "metadata": {},
   "outputs": [
    {
     "name": "stderr",
     "output_type": "stream",
     "text": [
      "C:\\Users\\jeanl\\AppData\\Local\\Temp\\ipykernel_5212\\1021928207.py:5: DtypeWarning: Columns (7) have mixed types. Specify dtype option on import or set low_memory=False.\n",
      "  df = pd.read_csv(base / f'Data/{i}.csv', sep = \";\",encoding='utf-8', on_bad_lines='skip')\n",
      "C:\\Users\\jeanl\\AppData\\Local\\Temp\\ipykernel_5212\\1021928207.py:5: DtypeWarning: Columns (4) have mixed types. Specify dtype option on import or set low_memory=False.\n",
      "  df = pd.read_csv(base / f'Data/{i}.csv', sep = \";\",encoding='utf-8', on_bad_lines='skip')\n"
     ]
    }
   ],
   "source": [
    "import pandas as pd\n",
    "from pathlib import Path\n",
    "base = Path.cwd().parent\n",
    "for i in range(2009,2023): \n",
    "    df = pd.read_csv(base / f'Data/{i}.csv', sep = \";\",encoding='utf-8', on_bad_lines='skip')\n",
    "    globals()[f\"df_{i}\"] = df"
   ]
  },
  {
   "cell_type": "code",
   "execution_count": 10,
   "id": "65779732",
   "metadata": {},
   "outputs": [
    {
     "name": "stdout",
     "output_type": "stream",
     "text": [
      "Year 2005 has 8 columns.\n",
      "Year 2006 has 8 columns.\n",
      "Year 2007 has 8 columns.\n",
      "Year 2008 has 8 columns.\n",
      "Year 2009 has 8 columns.\n",
      "Year 2010 has 8 columns.\n",
      "Year 2011 has 8 columns.\n",
      "Year 2012 has 8 columns.\n",
      "Year 2013 has 8 columns.\n",
      "Year 2014 has 8 columns.\n",
      "Year 2015 has 8 columns.\n",
      "Year 2016 has 8 columns.\n",
      "Year 2017 has 8 columns.\n",
      "Year 2018 has 14 columns.\n"
     ]
    }
   ],
   "source": [
    "columns = []\n",
    "for i in range(2009, 2023):\n",
    "    columns.append(globals()[f\"df_{i}\"].columns.tolist())\n",
    "for i in range(14):\n",
    "    print(f\"Year {2005+i} has {len(columns[i])} columns.\")"
   ]
  },
  {
   "cell_type": "code",
   "execution_count": 15,
   "id": "57e902cd",
   "metadata": {},
   "outputs": [],
   "source": [
    "df_complet = pd.concat([globals()[f\"df_{i}\"] for i in range(2009, 2022)], axis=0)"
   ]
  },
  {
   "cell_type": "code",
   "execution_count": 18,
   "id": "d101eb2e",
   "metadata": {},
   "outputs": [],
   "source": [
    "df_complet.to_csv(base/\"Data_clean/baac.csv\")"
   ]
  },
  {
   "cell_type": "code",
   "execution_count": null,
   "id": "904552c6",
   "metadata": {},
   "outputs": [],
   "source": []
  }
 ],
 "metadata": {
  "kernelspec": {
   "display_name": "Python 3",
   "language": "python",
   "name": "python3"
  },
  "language_info": {
   "codemirror_mode": {
    "name": "ipython",
    "version": 3
   },
   "file_extension": ".py",
   "mimetype": "text/x-python",
   "name": "python",
   "nbconvert_exporter": "python",
   "pygments_lexer": "ipython3",
   "version": "3.13.7"
  }
 },
 "nbformat": 4,
 "nbformat_minor": 5
}
